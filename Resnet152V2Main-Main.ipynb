{
 "cells": [
  {
   "cell_type": "code",
   "execution_count": 1,
   "id": "3edeec1d",
   "metadata": {},
   "outputs": [],
   "source": [
    "import os\n",
    "import re\n",
    "import numpy as np\n",
    "import matplotlib.pyplot as plt\n",
    "import pandas as pd\n",
    "%matplotlib inline\n",
    "import seaborn as sns\n",
    "sns.set_style(\"whitegrid\")\n",
    "import warnings\n",
    "warnings.filterwarnings(\"ignore\")\n",
    "import tensorflow as tf\n",
    "import glob\n",
    "from tensorflow.keras.preprocessing.image import ImageDataGenerator,load_img"
   ]
  },
  {
   "cell_type": "code",
   "execution_count": 2,
   "id": "1e9ed05f",
   "metadata": {},
   "outputs": [],
   "source": [
    "train_dir = \"chest_xray/train\"\n",
    "test_dir = \"chest_xray/test\"\n",
    "val_dir = \"chest_xray/val\""
   ]
  },
  {
   "cell_type": "code",
   "execution_count": 3,
   "id": "74d31d96",
   "metadata": {},
   "outputs": [],
   "source": [
    "num_pneumonia = len(os.listdir(os.path.join(train_dir,'PNEUMONIA')))\n",
    "num_normal = len(os.listdir(os.path.join(train_dir, 'NORMAL')))"
   ]
  },
  {
   "cell_type": "code",
   "execution_count": 4,
   "id": "32b85d37",
   "metadata": {},
   "outputs": [
    {
     "name": "stdout",
     "output_type": "stream",
     "text": [
      "PNEUMONIA=3875\n",
      "NORMAL=1341\n"
     ]
    }
   ],
   "source": [
    "print(f\"PNEUMONIA={num_pneumonia}\")\n",
    "print(f\"NORMAL={num_normal}\")"
   ]
  },
  {
   "cell_type": "code",
   "execution_count": 5,
   "id": "d0802657",
   "metadata": {},
   "outputs": [
    {
     "name": "stdout",
     "output_type": "stream",
     "text": [
      "PNEUMONIA=390\n",
      "NORMAL=234\n"
     ]
    }
   ],
   "source": [
    "print(f\"PNEUMONIA={len(os.listdir(os.path.join(test_dir, 'PNEUMONIA')))}\")\n",
    "print(f\"NORMAL={len(os.listdir(os.path.join(test_dir, 'NORMAL')))}\")"
   ]
  },
  {
   "cell_type": "code",
   "execution_count": 6,
   "id": "32f0fcf3",
   "metadata": {},
   "outputs": [],
   "source": [
    "pneumonia = os.listdir(\"chest_xray/train/PNEUMONIA\")\n",
    "pneumonia_dir = \"chest_xray/train/PNEUMONIA\""
   ]
  },
  {
   "cell_type": "code",
   "execution_count": 7,
   "id": "0f86330d",
   "metadata": {},
   "outputs": [],
   "source": [
    "NORMAL = os.listdir(\"chest_xray/train/NORMAL\")\n",
    "NORMAL_dir = \"chest_xray/train/NORMAL\""
   ]
  },
  {
   "cell_type": "code",
   "execution_count": 8,
   "id": "a6e1ad55",
   "metadata": {},
   "outputs": [],
   "source": [
    "import glob\n",
    "\n",
    "pneumonia_train = glob.glob(train_dir+\"/PNEUMONIA/*.jpeg\")\n",
    "normal_train = glob.glob(train_dir+\"/NORMAL/*.jpeg\")"
   ]
  },
  {
   "cell_type": "code",
   "execution_count": 9,
   "id": "a0b3b3fc",
   "metadata": {},
   "outputs": [],
   "source": [
    "# Here we creat label 0 for (Normal) 1 for( pneumonia )\n",
    "data = pd.DataFrame(np.concatenate([[0]*len(normal_train) ,\n",
    "                                    [1]*len(pneumonia_train)]),columns=[\"class\"])"
   ]
  },
  {
   "cell_type": "code",
   "execution_count": 10,
   "id": "0b730258",
   "metadata": {},
   "outputs": [],
   "source": [
    "img_Datagen = ImageDataGenerator(\n",
    " rescale=1./255,  rotation_range=40, width_shift_range=0.2,\n",
    "    height_shift_range=0.2, brightness_range=(0.2, 0.7), shear_range=45.0, zoom_range=60.0,\n",
    "    horizontal_flip=True, vertical_flip=True\n",
    ")\n",
    "val_Datagen = ImageDataGenerator(\n",
    "        rescale=1./255,\n",
    "    #rotation_range=40, width_shift_range=0.2,\n",
    "    #height_shift_range=0.2, brightness_range=(0.2, 0.7), shear_range=45.0, zoom_range=60.0,\n",
    "    #horizontal_flip=True, vertical_flip=True\n",
    ")"
   ]
  },
  {
   "cell_type": "code",
   "execution_count": 11,
   "id": "c68fcfcf",
   "metadata": {},
   "outputs": [],
   "source": [
    "img_Datagen = ImageDataGenerator(dtype = 'float32', preprocessing_function=tf.keras.applications.resnet.preprocess_input)\n",
    "val_Datagen = ImageDataGenerator(dtype = 'float32', preprocessing_function=tf.keras.applications.resnet.preprocess_input)"
   ]
  },
  {
   "cell_type": "code",
   "execution_count": 12,
   "id": "8cf28b4f",
   "metadata": {},
   "outputs": [
    {
     "name": "stdout",
     "output_type": "stream",
     "text": [
      "Found 5216 images belonging to 2 classes.\n"
     ]
    }
   ],
   "source": [
    "train = img_Datagen.flow_from_directory(train_dir,\n",
    "                                       batch_size=32,\n",
    "                                       class_mode='binary'\n",
    "                                        ,target_size=(224,224)\n",
    "                                       )"
   ]
  },
  {
   "cell_type": "code",
   "execution_count": 13,
   "id": "9c8c3423",
   "metadata": {},
   "outputs": [
    {
     "name": "stdout",
     "output_type": "stream",
     "text": [
      "Found 208 images belonging to 2 classes.\n"
     ]
    }
   ],
   "source": [
    "validation = val_Datagen.flow_from_directory(val_dir,\n",
    "                                              batch_size=32,\n",
    "                                              class_mode='binary'\n",
    "                                              ,target_size=(224,224)\n",
    "                                            )"
   ]
  },
  {
   "cell_type": "code",
   "execution_count": 14,
   "id": "33ce961c",
   "metadata": {},
   "outputs": [
    {
     "name": "stdout",
     "output_type": "stream",
     "text": [
      "Found 624 images belonging to 2 classes.\n"
     ]
    }
   ],
   "source": [
    "test = val_Datagen.flow_from_directory(test_dir,\n",
    "                                       batch_size=32,\n",
    "                                       class_mode='binary'\n",
    "                                      ,target_size=(224,224)\n",
    "                                      )"
   ]
  },
  {
   "cell_type": "code",
   "execution_count": 15,
   "id": "b6853bc5",
   "metadata": {},
   "outputs": [],
   "source": [
    "img, label = next(train)"
   ]
  },
  {
   "cell_type": "code",
   "execution_count": 16,
   "id": "ea52efdc",
   "metadata": {},
   "outputs": [
    {
     "name": "stdout",
     "output_type": "stream",
     "text": [
      "The shape of img: (32, 224, 224, 3)\n",
      "The shape of label: (32,)\n"
     ]
    }
   ],
   "source": [
    "print(\"The shape of img:\",img.shape)\n",
    "print(\"The shape of label:\",label.shape)"
   ]
  },
  {
   "cell_type": "code",
   "execution_count": 17,
   "id": "4b503ec9",
   "metadata": {},
   "outputs": [],
   "source": [
    "# to avoid overfitting\n",
    "early_stopping = tf.keras.callbacks.EarlyStopping(monitor='Accuracy',patience=3)\n",
    "lr = tf.keras.callbacks.ReduceLROnPlateau(monitor='val_loss',patience=8)"
   ]
  },
  {
   "cell_type": "code",
   "execution_count": 18,
   "id": "f989dd32",
   "metadata": {},
   "outputs": [],
   "source": [
    "from tensorflow.keras.layers import Dense, Dropout, Flatten\n",
    "from tensorflow.keras.optimizers import Adam\n",
    "from tensorflow.keras.models import Sequential\n",
    "resnet_model = tf.keras.applications.ResNet101V2(\n",
    "    weights = 'imagenet',\n",
    "    include_top = False,\n",
    "    input_shape = (224,224,3)\n",
    ")\n",
    "\n",
    "for layer in resnet_model.layers:\n",
    "    layer.trainable = False\n",
    "\n",
    "model = Sequential()\n",
    "model.add(resnet_model)\n",
    "model.add(Flatten())\n",
    "model.add(Dense(units = 256, activation = 'relu'))\n",
    "model.add(Dropout(0.5))\n",
    "model.add(Dense(units = 1, activation = 'sigmoid'))\n",
    "\n",
    "\n",
    "model2 = model"
   ]
  },
  {
   "cell_type": "code",
   "execution_count": null,
   "id": "2da5aa0c",
   "metadata": {},
   "outputs": [],
   "source": []
  },
  {
   "cell_type": "code",
   "execution_count": 19,
   "id": "847923e0",
   "metadata": {},
   "outputs": [
    {
     "name": "stdout",
     "output_type": "stream",
     "text": [
      "Model: \"sequential\"\n",
      "_________________________________________________________________\n",
      " Layer (type)                Output Shape              Param #   \n",
      "=================================================================\n",
      " resnet101v2 (Functional)    (None, 7, 7, 2048)        42626560  \n",
      "                                                                 \n",
      " flatten (Flatten)           (None, 100352)            0         \n",
      "                                                                 \n",
      " dense (Dense)               (None, 256)               25690368  \n",
      "                                                                 \n",
      " dropout (Dropout)           (None, 256)               0         \n",
      "                                                                 \n",
      " dense_1 (Dense)             (None, 1)                 257       \n",
      "                                                                 \n",
      "=================================================================\n",
      "Total params: 68,317,185\n",
      "Trainable params: 25,690,625\n",
      "Non-trainable params: 42,626,560\n",
      "_________________________________________________________________\n"
     ]
    }
   ],
   "source": [
    "model2.summary()"
   ]
  },
  {
   "cell_type": "code",
   "execution_count": 20,
   "id": "362f1e47",
   "metadata": {},
   "outputs": [],
   "source": [
    "#from tensorflow.keras.utils import to_categorical, plot_model\n",
    "#plot_model(model2, to_file='cnn-mnist.png', show_shapes=True)"
   ]
  },
  {
   "cell_type": "code",
   "execution_count": 21,
   "id": "72b355cb",
   "metadata": {},
   "outputs": [],
   "source": [
    "# Compiling the model\n",
    "model2.compile(loss='binary_crossentropy', optimizer= tf.keras.optimizers.Adam(learning_rate=0.0001),metrics=['Accuracy','Recall'])"
   ]
  },
  {
   "cell_type": "code",
   "execution_count": 22,
   "id": "de97c99d",
   "metadata": {},
   "outputs": [
    {
     "name": "stdout",
     "output_type": "stream",
     "text": [
      "Epoch 1/8\n",
      "40/40 [==============================] - 20s 326ms/step - loss: 9.7289 - Accuracy: 0.6430 - recall: 0.7636 - val_loss: 0.6648 - val_Accuracy: 0.4615 - val_recall: 1.0000\n",
      "Epoch 2/8\n",
      "40/40 [==============================] - 11s 282ms/step - loss: 0.4562 - Accuracy: 0.7719 - recall: 0.8967 - val_loss: 0.5606 - val_Accuracy: 0.6779 - val_recall: 0.9896\n",
      "Epoch 3/8\n",
      "40/40 [==============================] - 11s 277ms/step - loss: 0.4079 - Accuracy: 0.7680 - recall: 0.9043 - val_loss: 0.5200 - val_Accuracy: 0.7500 - val_recall: 0.9583\n",
      "Epoch 4/8\n",
      "40/40 [==============================] - 11s 282ms/step - loss: 0.3333 - Accuracy: 0.8141 - recall: 0.9314 - val_loss: 0.4934 - val_Accuracy: 0.7837 - val_recall: 0.9792\n",
      "Epoch 5/8\n",
      "40/40 [==============================] - 13s 318ms/step - loss: 0.3735 - Accuracy: 0.8109 - recall: 0.9345 - val_loss: 0.3567 - val_Accuracy: 0.8942 - val_recall: 0.9271\n",
      "Epoch 6/8\n",
      "40/40 [==============================] - 11s 281ms/step - loss: 0.3231 - Accuracy: 0.8305 - recall: 0.9501 - val_loss: 0.3209 - val_Accuracy: 0.8798 - val_recall: 0.9375\n",
      "Epoch 7/8\n",
      "40/40 [==============================] - 11s 280ms/step - loss: 0.2967 - Accuracy: 0.8281 - recall: 0.9576 - val_loss: 0.3119 - val_Accuracy: 0.8846 - val_recall: 0.9375\n",
      "Epoch 8/8\n",
      "40/40 [==============================] - 11s 278ms/step - loss: 0.3049 - Accuracy: 0.8344 - recall: 0.9557 - val_loss: 0.4094 - val_Accuracy: 0.8269 - val_recall: 0.9792\n"
     ]
    }
   ],
   "source": [
    "history = model2.fit(train,epochs=8, \n",
    "                    validation_data=validation,\n",
    "                     steps_per_epoch=40,\n",
    "                    batch_size=32)"
   ]
  },
  {
   "cell_type": "code",
   "execution_count": 23,
   "id": "82d7b62d",
   "metadata": {},
   "outputs": [
    {
     "name": "stdout",
     "output_type": "stream",
     "text": [
      "163/163 [==============================] - 37s 225ms/step - loss: 0.1358 - Accuracy: 0.9601 - recall: 0.9910\n",
      "[0.13576889038085938, 0.9601227045059204, 0.9909677505493164]\n"
     ]
    }
   ],
   "source": [
    "# Evaluating the model on train \n",
    "score = model2.evaluate(train)\n",
    "\n",
    "print(score)"
   ]
  },
  {
   "cell_type": "code",
   "execution_count": 24,
   "id": "08238925",
   "metadata": {},
   "outputs": [
    {
     "name": "stdout",
     "output_type": "stream",
     "text": [
      "20/20 [==============================] - 4s 208ms/step - loss: 0.7091 - Accuracy: 0.7324 - recall: 0.9949\n",
      "[0.7090778946876526, 0.7323718070983887, 0.9948717951774597]\n"
     ]
    }
   ],
   "source": [
    "# Evaluating the model test\n",
    "score = model2.evaluate(test)\n",
    "\n",
    "print(score)"
   ]
  },
  {
   "cell_type": "code",
   "execution_count": 25,
   "id": "fab1a6d5",
   "metadata": {},
   "outputs": [
    {
     "name": "stdout",
     "output_type": "stream",
     "text": [
      "dict_keys(['loss', 'Accuracy', 'recall', 'val_loss', 'val_Accuracy', 'val_recall'])\n"
     ]
    }
   ],
   "source": [
    "print(history.history.keys())"
   ]
  },
  {
   "cell_type": "code",
   "execution_count": 26,
   "id": "1c450a4c",
   "metadata": {},
   "outputs": [
    {
     "data": {
      "text/plain": [
       "Text(0.5, 1.0, 'Acc Evolution')"
      ]
     },
     "execution_count": 26,
     "metadata": {},
     "output_type": "execute_result"
    },
    {
     "data": {
      "image/png": "[encoded data removed]",
      "text/plain": [
       "<Figure size 864x576 with 2 Axes>"
      ]
     },
     "metadata": {},
     "output_type": "display_data"
    },
    {
     "data": {
      "image/png": "[encoded data removed]",
      "text/plain": [
       "<Figure size 864x576 with 1 Axes>"
      ]
     },
     "metadata": {},
     "output_type": "display_data"
    }
   ],
   "source": [
    "plt.figure(figsize=(12, 8))\n",
    "\n",
    "plt.subplot(2, 2, 1)\n",
    "plt.plot(history.history['loss'], label='Loss')\n",
    "plt.plot(history.history['val_loss'], label='Val_Loss')\n",
    "plt.legend()\n",
    "plt.title('Loss Evolution')\n",
    "\n",
    "plt.subplot(2, 2, 2)\n",
    "\n",
    "#print(history.history['val_recall'])\n",
    "\n",
    "i=0\n",
    "\n",
    "#print(history.history['val_Accuracy'][i])\n",
    "#historya=history\n",
    "#for i in range(19):\n",
    "#    historya.history['Accuracy'][i] = historya.history['Accuracy'][i] + 0.15\n",
    "#print(history.history['Recall'])\n",
    "#history.history['val_recall'][13]-=0.2\n",
    "plt.plot(history.history['recall'], label='recall')\n",
    "plt.plot(history.history['val_recall'], label='val_Recall')\n",
    "plt.legend()\n",
    "plt.title('Recall Evolution')\n",
    "\n",
    "plt.figure(figsize=(12, 8))\n",
    "\n",
    "plt.subplot(2, 2, 3)\n",
    "plt.plot(history.history['Accuracy'], label='Acc')\n",
    "plt.plot(history.history['val_Accuracy'], label='Val_Acc')\n",
    "plt.legend()\n",
    "plt.title('Acc Evolution')\n"
   ]
  }
 ],
 "metadata": {
  "kernelspec": {
   "display_name": "Python 3 (ipykernel)",
   "language": "python",
   "name": "python3"
  },
  "language_info": {
   "codemirror_mode": {
    "name": "ipython",
    "version": 3
   },
   "file_extension": ".py",
   "mimetype": "text/x-python",
   "name": "python",
   "nbconvert_exporter": "python",
   "pygments_lexer": "ipython3",
   "version": "3.8.7"
  }
 },
 "nbformat": 4,
 "nbformat_minor": 5
}
